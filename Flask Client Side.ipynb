{
 "cells": [
  {
   "cell_type": "code",
   "execution_count": 8,
   "metadata": {},
   "outputs": [],
   "source": [
    "import requests\n",
    "import json\n",
    "import pandas as pd\n",
    "import pickle\n",
    "import numpy\n",
    "import matplotlib"
   ]
  },
  {
   "cell_type": "code",
   "execution_count": 9,
   "metadata": {},
   "outputs": [],
   "source": [
    "\n",
    "url = 'http://127.0.0.1:5000/predict'\n",
    "data = {\n",
    "    \"battery_power\": 842,\n",
    "    \"blue\": 0,\n",
    "    \"clock_speed\": 2.2,\n",
    "    \"dual_sim\": 1,\n",
    "    \"fc\": 1,\n",
    "    \"four_g\": 1,\n",
    "    \"int_memory\": 7,\n",
    "    \"m_dep\": 0.6,\n",
    "    \"mobile_wt\": 188,\n",
    "    \"n_cores\": 2,\n",
    "    \"pc\": 2,\n",
    "    \"px_height\": 40,\n",
    "    \"px_width\": 746,\n",
    "    \"ram\": 2459,\n",
    "    \"sc_h\": 10,\n",
    "    \"sc_w\": 8,\n",
    "    \"talk_time\": 19,\n",
    "    \"three_g\": 0,\n",
    "    \"touch_screen\": 0,\n",
    "    \"wifi\": 1,\n",
    "}\n",
    "\n"
   ]
  },
  {
   "cell_type": "code",
   "execution_count": 10,
   "metadata": {},
   "outputs": [],
   "source": [
    "# Convert the data to JSON format\n",
    "headers = {'Content-Type': 'application/json'}\n",
    "response = requests.post(url, headers=headers, data=json.dumps(data))"
   ]
  },
  {
   "cell_type": "code",
   "execution_count": 11,
   "metadata": {},
   "outputs": [
    {
     "name": "stdout",
     "output_type": "stream",
     "text": [
      "{'price_range': 1}\n"
     ]
    }
   ],
   "source": [
    "# Print the response from the server\n",
    "try:\n",
    "    print(response.json())\n",
    "except json.JSONDecodeError:\n",
    "    print(\"Failed to decode JSON response\")\n",
    "    print(\"Response content:\", response.content)"
   ]
  }
 ],
 "metadata": {
  "kernelspec": {
   "display_name": "Python 3",
   "language": "python",
   "name": "python3"
  },
  "language_info": {
   "codemirror_mode": {
    "name": "ipython",
    "version": 3
   },
   "file_extension": ".py",
   "mimetype": "text/x-python",
   "name": "python",
   "nbconvert_exporter": "python",
   "pygments_lexer": "ipython3",
   "version": "3.7.7"
  }
 },
 "nbformat": 4,
 "nbformat_minor": 2
}
